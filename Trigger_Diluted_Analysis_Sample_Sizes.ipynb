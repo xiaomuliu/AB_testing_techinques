{
 "cells": [
  {
   "cell_type": "code",
   "execution_count": 2,
   "metadata": {},
   "outputs": [],
   "source": [
    "import numpy as np\n",
    "from scipy import stats\n",
    "import matplotlib.pyplot as plt\n",
    "%matplotlib inline"
   ]
  },
  {
   "cell_type": "code",
   "execution_count": 7,
   "metadata": {},
   "outputs": [],
   "source": [
    "mu_c1, mu_t1 = 1, 1.5\n",
    "sigma_c1, sigma_t1 = 2, 2\n",
    "\n",
    "N1 = 100\n",
    "resample_times = 1000\n",
    "\n",
    "Y_bar_c1 = [np.mean(stats.norm.rvs(mu_c1, sigma_c1, size=N1, random_state = 123+i)) for i in range(resample_times)]\n",
    "Y_bar_t1 = [np.mean(stats.norm.rvs(mu_t1, sigma_t1, size=N1, random_state = 456+i)) for i in range(resample_times)]"
   ]
  },
  {
   "cell_type": "code",
   "execution_count": 10,
   "metadata": {},
   "outputs": [
    {
     "data": {
      "image/png": "[encoded data removed]",
      "text/plain": [
       "<Figure size 720x504 with 1 Axes>"
      ]
     },
     "metadata": {
      "needs_background": "light"
     },
     "output_type": "display_data"
    }
   ],
   "source": [
    "fig, ax = plt.subplots(1, 1, figsize = (10,7))\n",
    "h1, _, _ = ax.hist(Y_bar_c1, bins=30, alpha=0.5, label = r'$Y_{C1}$')\n",
    "h2, _, _ = ax.hist(Y_bar_t1, bins=30, alpha=0.5, label = r'$Y_{T1}$')\n",
    "ax.vlines(x=np.mean(Y_bar_c1), ymin=0, ymax=1.1*np.max([h1,h2]), colors='b')\n",
    "ax.vlines(x=np.mean(Y_bar_t1), ymin=0, ymax=1.1*np.max([h1,h2]), colors='r')\n",
    "ax.set_xlim(0,2.5)\n",
    "ax.legend()\n",
    "plt.show()"
   ]
  },
  {
   "cell_type": "code",
   "execution_count": 11,
   "metadata": {},
   "outputs": [
    {
     "name": "stdout",
     "output_type": "stream",
     "text": [
      "0.953\n"
     ]
    }
   ],
   "source": [
    "delta_y_bar_1 = np.array(Y_bar_t1)-np.array(Y_bar_c1)\n",
    "print(np.sum(delta_y_bar_1 > 0)/len(delta_y_bar_1))"
   ]
  },
  {
   "cell_type": "code",
   "execution_count": 14,
   "metadata": {},
   "outputs": [],
   "source": [
    "k = 5\n",
    "mu_c0, mu_t0 = 1.8, 1.8\n",
    "mu_c = (mu_c1+(k-1)*mu_c0)/k\n",
    "mu_t = (mu_t1+(k-1)*mu_t0)/k\n",
    "\n",
    "sigma_c = sigma_c1\n",
    "sigma_t = sigma_t1\n",
    "\n"
   ]
  },
  {
   "cell_type": "code",
   "execution_count": 18,
   "metadata": {},
   "outputs": [],
   "source": [
    "Y_bar_c = [np.mean(stats.norm.rvs(mu_c, sigma_c, size=N1*k, random_state = 123+i)) for i in range(resample_times)]\n",
    "Y_bar_t = [np.mean(stats.norm.rvs(mu_t, sigma_t, size=N1*k, random_state = 456+i)) for i in range(resample_times)]"
   ]
  },
  {
   "cell_type": "code",
   "execution_count": 19,
   "metadata": {},
   "outputs": [
    {
     "data": {
      "text/plain": [
       "<matplotlib.legend.Legend at 0x7fcff4c70550>"
      ]
     },
     "execution_count": 19,
     "metadata": {},
     "output_type": "execute_result"
    },
    {
     "data": {
      "image/png": "[encoded data removed]",
      "text/plain": [
       "<Figure size 720x504 with 1 Axes>"
      ]
     },
     "metadata": {
      "needs_background": "light"
     },
     "output_type": "display_data"
    }
   ],
   "source": [
    "fig, ax = plt.subplots(1, 1, figsize = (10,7))\n",
    "h1, _, _ = ax.hist(Y_bar_c, bins=30, alpha=0.5, label = r'$Y_{C}$')\n",
    "h2, _, _ = ax.hist(Y_bar_t, bins=30, alpha=0.5, label = r'$Y_{T}$')\n",
    "ax.vlines(x=np.mean(Y_bar_c), ymin=0, ymax=1.1*np.max([h1,h2]), colors='b')\n",
    "ax.vlines(x=np.mean(Y_bar_t), ymin=0, ymax=1.1*np.max([h1,h2]), colors='r')\n",
    "ax.set_xlim(0,2.5)\n",
    "ax.legend()"
   ]
  },
  {
   "cell_type": "code",
   "execution_count": 190,
   "metadata": {},
   "outputs": [
    {
     "data": {
      "text/plain": [
       "0.769"
      ]
     },
     "execution_count": 190,
     "metadata": {},
     "output_type": "execute_result"
    }
   ],
   "source": [
    "delta_y_bar = np.array(Y_bar_t)-np.array(Y_bar_c)\n",
    "np.sum(delta_y_bar > 0)/len(delta_y_bar)"
   ]
  },
  {
   "cell_type": "code",
   "execution_count": 21,
   "metadata": {},
   "outputs": [],
   "source": [
    "Y_bar_c = [np.mean(stats.norm.rvs(mu_c, sigma_c, size=N*k**2, random_state = 123+i)) for i in range(resample_times)]\n",
    "Y_bar_t = [np.mean(stats.norm.rvs(mu_t, sigma_t, size=N*k**2, random_state = 456+i)) for i in range(resample_times)]"
   ]
  },
  {
   "cell_type": "code",
   "execution_count": 22,
   "metadata": {},
   "outputs": [
    {
     "data": {
      "text/plain": [
       "<matplotlib.legend.Legend at 0x7fcff58167f0>"
      ]
     },
     "execution_count": 22,
     "metadata": {},
     "output_type": "execute_result"
    },
    {
     "data": {
      "image/png": "[encoded data removed]",
      "text/plain": [
       "<Figure size 720x504 with 1 Axes>"
      ]
     },
     "metadata": {
      "needs_background": "light"
     },
     "output_type": "display_data"
    }
   ],
   "source": [
    "fig, ax = plt.subplots(1, 1, figsize = (10,7))\n",
    "h1, _, _ = ax.hist(Y_bar_c, bins=30, alpha=0.5, label = r'$Y_{C}$')\n",
    "h2, _, _ = ax.hist(Y_bar_t, bins=30, alpha=0.5, label = r'$Y_{T}$')\n",
    "ax.vlines(x=np.mean(Y_bar_c), ymin=0, ymax=1.1*np.max([h1,h2]), colors='b')\n",
    "ax.vlines(x=np.mean(Y_bar_t), ymin=0, ymax=1.1*np.max([h1,h2]), colors='r')\n",
    "ax.set_xlim(0,2.5)\n",
    "ax.legend()"
   ]
  },
  {
   "cell_type": "code",
   "execution_count": 193,
   "metadata": {},
   "outputs": [
    {
     "data": {
      "text/plain": [
       "0.962"
      ]
     },
     "execution_count": 193,
     "metadata": {},
     "output_type": "execute_result"
    }
   ],
   "source": [
    "delta_y_bar = np.array(Y_bar_t)-np.array(Y_bar_c)\n",
    "np.sum(delta_y_bar > 0)/len(delta_y_bar)"
   ]
  },
  {
   "cell_type": "code",
   "execution_count": null,
   "metadata": {},
   "outputs": [],
   "source": []
  }
 ],
 "metadata": {
  "kernelspec": {
   "display_name": "Python 3",
   "language": "python",
   "name": "python3"
  },
  "language_info": {
   "codemirror_mode": {
    "name": "ipython",
    "version": 3
   },
   "file_extension": ".py",
   "mimetype": "text/x-python",
   "name": "python",
   "nbconvert_exporter": "python",
   "pygments_lexer": "ipython3",
   "version": "3.8.2"
  }
 },
 "nbformat": 4,
 "nbformat_minor": 4
}
