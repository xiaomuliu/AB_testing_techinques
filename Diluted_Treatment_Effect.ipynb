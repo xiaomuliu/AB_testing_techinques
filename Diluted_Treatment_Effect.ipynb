{
 "cells": [
  {
   "cell_type": "code",
   "execution_count": 1,
   "metadata": {},
   "outputs": [],
   "source": [
    "import numpy as np\n",
    "from scipy import stats\n",
    "import pandas as pd\n",
    "import string"
   ]
  },
  {
   "cell_type": "code",
   "execution_count": 23,
   "metadata": {},
   "outputs": [],
   "source": [
    "df = pd.DataFrame(dict(group = np.repeat(['T','C'], repeats=4*5)\n",
    "                       ,user = np.repeat(list(map(chr, range(97, 97+8))), repeats=5)\n",
    "                       ,session = np.tile(np.arange(1,6),8)\n",
    "                       ,is_click = np.array([1,0,0,0,1, 1,1,0,1,np.nan, 1,0,0,np.nan,np.nan, 0,0,0,np.nan,np.nan, 0,1,0,1,1, 1,1,1,np.nan,np.nan, 0,0,1,np.nan,np.nan, 0,1,0,0,np.nan])\n",
    "                       ,is_trigger = np.array([0,1,0,0,0, 1,1,1,1,np.nan, 1,0,0,np.nan,np.nan, 0,0,0,np.nan,np.nan, 0,0,1,0,0, 1,1,1,np.nan,np.nan, 0,0,0,np.nan,np.nan, 0,1,0,0,np.nan])\n",
    "                      ))"
   ]
  },
  {
   "cell_type": "code",
   "execution_count": 24,
   "metadata": {},
   "outputs": [],
   "source": [
    "df['is_untrigger'] = 1-df['is_trigger']\n",
    "df['is_tr_clk'] = df['is_click']*df['is_trigger']\n",
    "df['is_untr_clk'] = df['is_click']*(1-df['is_trigger'])"
   ]
  },
  {
   "cell_type": "code",
   "execution_count": 4,
   "metadata": {},
   "outputs": [
    {
     "data": {
      "text/html": [
       "<div>\n",
       "<style scoped>\n",
       "    .dataframe tbody tr th:only-of-type {\n",
       "        vertical-align: middle;\n",
       "    }\n",
       "\n",
       "    .dataframe tbody tr th {\n",
       "        vertical-align: top;\n",
       "    }\n",
       "\n",
       "    .dataframe thead tr th {\n",
       "        text-align: left;\n",
       "    }\n",
       "</style>\n",
       "<table border=\"1\" class=\"dataframe\">\n",
       "  <thead>\n",
       "    <tr>\n",
       "      <th></th>\n",
       "      <th>group</th>\n",
       "      <th>user</th>\n",
       "      <th>is_click</th>\n",
       "      <th colspan=\"2\" halign=\"left\">is_trigger</th>\n",
       "      <th>is_untrigger</th>\n",
       "      <th>is_tr_clk</th>\n",
       "      <th>is_untr_clk</th>\n",
       "      <th>is_tr_clk_m</th>\n",
       "      <th>is_untr_clk_m</th>\n",
       "    </tr>\n",
       "    <tr>\n",
       "      <th></th>\n",
       "      <th></th>\n",
       "      <th></th>\n",
       "      <th>mean</th>\n",
       "      <th>mean</th>\n",
       "      <th>sum</th>\n",
       "      <th>sum</th>\n",
       "      <th>sum</th>\n",
       "      <th>sum</th>\n",
       "      <th></th>\n",
       "      <th></th>\n",
       "    </tr>\n",
       "  </thead>\n",
       "  <tbody>\n",
       "    <tr>\n",
       "      <th>4</th>\n",
       "      <td>T</td>\n",
       "      <td>a</td>\n",
       "      <td>0.400000</td>\n",
       "      <td>0.200000</td>\n",
       "      <td>1.0</td>\n",
       "      <td>4.0</td>\n",
       "      <td>0.0</td>\n",
       "      <td>2.0</td>\n",
       "      <td>0.00</td>\n",
       "      <td>0.500000</td>\n",
       "    </tr>\n",
       "    <tr>\n",
       "      <th>5</th>\n",
       "      <td>T</td>\n",
       "      <td>b</td>\n",
       "      <td>0.750000</td>\n",
       "      <td>1.000000</td>\n",
       "      <td>4.0</td>\n",
       "      <td>0.0</td>\n",
       "      <td>3.0</td>\n",
       "      <td>0.0</td>\n",
       "      <td>0.75</td>\n",
       "      <td>NaN</td>\n",
       "    </tr>\n",
       "    <tr>\n",
       "      <th>6</th>\n",
       "      <td>T</td>\n",
       "      <td>c</td>\n",
       "      <td>0.333333</td>\n",
       "      <td>0.333333</td>\n",
       "      <td>1.0</td>\n",
       "      <td>2.0</td>\n",
       "      <td>1.0</td>\n",
       "      <td>0.0</td>\n",
       "      <td>1.00</td>\n",
       "      <td>0.000000</td>\n",
       "    </tr>\n",
       "    <tr>\n",
       "      <th>7</th>\n",
       "      <td>T</td>\n",
       "      <td>d</td>\n",
       "      <td>0.000000</td>\n",
       "      <td>0.000000</td>\n",
       "      <td>0.0</td>\n",
       "      <td>3.0</td>\n",
       "      <td>0.0</td>\n",
       "      <td>0.0</td>\n",
       "      <td>NaN</td>\n",
       "      <td>0.000000</td>\n",
       "    </tr>\n",
       "    <tr>\n",
       "      <th>0</th>\n",
       "      <td>C</td>\n",
       "      <td>e</td>\n",
       "      <td>0.600000</td>\n",
       "      <td>0.200000</td>\n",
       "      <td>1.0</td>\n",
       "      <td>4.0</td>\n",
       "      <td>0.0</td>\n",
       "      <td>3.0</td>\n",
       "      <td>0.00</td>\n",
       "      <td>0.750000</td>\n",
       "    </tr>\n",
       "    <tr>\n",
       "      <th>1</th>\n",
       "      <td>C</td>\n",
       "      <td>f</td>\n",
       "      <td>1.000000</td>\n",
       "      <td>1.000000</td>\n",
       "      <td>3.0</td>\n",
       "      <td>0.0</td>\n",
       "      <td>3.0</td>\n",
       "      <td>0.0</td>\n",
       "      <td>1.00</td>\n",
       "      <td>NaN</td>\n",
       "    </tr>\n",
       "    <tr>\n",
       "      <th>2</th>\n",
       "      <td>C</td>\n",
       "      <td>g</td>\n",
       "      <td>0.333333</td>\n",
       "      <td>0.000000</td>\n",
       "      <td>0.0</td>\n",
       "      <td>3.0</td>\n",
       "      <td>0.0</td>\n",
       "      <td>1.0</td>\n",
       "      <td>NaN</td>\n",
       "      <td>0.333333</td>\n",
       "    </tr>\n",
       "    <tr>\n",
       "      <th>3</th>\n",
       "      <td>C</td>\n",
       "      <td>h</td>\n",
       "      <td>0.250000</td>\n",
       "      <td>0.250000</td>\n",
       "      <td>1.0</td>\n",
       "      <td>3.0</td>\n",
       "      <td>1.0</td>\n",
       "      <td>0.0</td>\n",
       "      <td>1.00</td>\n",
       "      <td>0.000000</td>\n",
       "    </tr>\n",
       "  </tbody>\n",
       "</table>\n",
       "</div>"
      ],
      "text/plain": [
       "  group user  is_click is_trigger      is_untrigger is_tr_clk is_untr_clk  \\\n",
       "                  mean       mean  sum          sum       sum         sum   \n",
       "4     T    a  0.400000   0.200000  1.0          4.0       0.0         2.0   \n",
       "5     T    b  0.750000   1.000000  4.0          0.0       3.0         0.0   \n",
       "6     T    c  0.333333   0.333333  1.0          2.0       1.0         0.0   \n",
       "7     T    d  0.000000   0.000000  0.0          3.0       0.0         0.0   \n",
       "0     C    e  0.600000   0.200000  1.0          4.0       0.0         3.0   \n",
       "1     C    f  1.000000   1.000000  3.0          0.0       3.0         0.0   \n",
       "2     C    g  0.333333   0.000000  0.0          3.0       0.0         1.0   \n",
       "3     C    h  0.250000   0.250000  1.0          3.0       1.0         0.0   \n",
       "\n",
       "  is_tr_clk_m is_untr_clk_m  \n",
       "                             \n",
       "4        0.00      0.500000  \n",
       "5        0.75           NaN  \n",
       "6        1.00      0.000000  \n",
       "7         NaN      0.000000  \n",
       "0        0.00      0.750000  \n",
       "1        1.00           NaN  \n",
       "2         NaN      0.333333  \n",
       "3        1.00      0.000000  "
      ]
     },
     "execution_count": 4,
     "metadata": {},
     "output_type": "execute_result"
    }
   ],
   "source": [
    "df_agg = df.groupby(['group','user']).agg({'is_click':'mean','is_trigger':['mean','sum'],'is_untrigger':'sum','is_tr_clk':'sum','is_untr_clk':'sum'})\n",
    "df_agg.reset_index(inplace=True)\n",
    "df_agg.sort_values(by='group', axis=0, ascending=False, inplace=True)\n",
    "df_agg['is_tr_clk_m'] = df_agg['is_tr_clk']['sum']/df_agg['is_trigger']['sum']\n",
    "df_agg['is_untr_clk_m'] = df_agg['is_untr_clk']['sum']/df_agg['is_untrigger']['sum']\n",
    "df_agg"
   ]
  },
  {
   "cell_type": "code",
   "execution_count": 5,
   "metadata": {},
   "outputs": [],
   "source": [
    "df_agg.columns = ['_'.join(col).rstrip('_') for col in df_agg.columns]\n",
    "df_agg.rename(columns={'is_click_mean':'X','is_trigger_mean':'TR', 'is_tr_clk_m':'TrX', 'is_untr_clk_m':'UnTrX'}, inplace=True)\n",
    "df_agg['is_TR_1'] = np.array(df_agg['TR'].values==1, dtype=int)\n",
    "df_agg = df_agg[['group','user','X','TR','TrX','UnTrX','is_TR_1']]\n",
    "df_agg = df_agg.fillna(0)"
   ]
  },
  {
   "cell_type": "code",
   "execution_count": 6,
   "metadata": {},
   "outputs": [
    {
     "data": {
      "text/plain": [
       "array([0.48780488, 0.31707317, 0.51219512])"
      ]
     },
     "execution_count": 6,
     "metadata": {},
     "output_type": "execute_result"
    }
   ],
   "source": [
    "Y = df_agg.loc[df_agg['group']=='C', ['UnTrX','TR','is_TR_1']].values\n",
    "X = df_agg.loc[df_agg['group']=='C','X'].values\n",
    "X = X-X.mean(axis=0)\n",
    "Y = Y-Y.mean(axis=0)\n",
    "theta = np.linalg.inv(Y.T@Y)@Y.T@X\n",
    "theta"
   ]
  },
  {
   "cell_type": "code",
   "execution_count": 29,
   "metadata": {},
   "outputs": [
    {
     "data": {
      "text/plain": [
       "-0.11046747967479675"
      ]
     },
     "execution_count": 29,
     "metadata": {},
     "output_type": "execute_result"
    }
   ],
   "source": [
    "dYm = np.mean(df_agg.loc[df_agg['group']=='T', ['UnTrX','TR','is_TR_1']].values - df_agg.loc[df_agg['group']=='C', ['UnTrX','TR','is_TR_1']].values, axis=0)\n",
    "dXm = np.mean(df_agg.loc[df_agg['group']=='T','X'].values- df_agg.loc[df_agg['group']=='C','X'].values)\n",
    "delta_vr = dXm - np.dot(dYm,theta)\n",
    "delta_vr"
   ]
  },
  {
   "cell_type": "code",
   "execution_count": 35,
   "metadata": {},
   "outputs": [],
   "source": [
    "X_t = df_agg.loc[df_agg['group']=='T','X'].values\n",
    "X_c = df_agg.loc[df_agg['group']=='C','X'].values\n",
    "X_t_dm = X_t-X_t.mean(axis=0)\n",
    "X_c_dm = X_c-X_c.mean(axis=0)\n",
    "\n",
    "Y_t = df_agg.loc[df_agg['group']=='T', ['UnTrX','TR','is_TR_1']].values\n",
    "Y_c = df_agg.loc[df_agg['group']=='C', ['UnTrX','TR','is_TR_1']].values\n",
    "Y_t_dm = Y_t-Y_t.mean(axis=0)\n",
    "Y_c_dm = Y_c-Y_c.mean(axis=0)\n",
    "\n",
    "n = 4"
   ]
  },
  {
   "cell_type": "code",
   "execution_count": 37,
   "metadata": {},
   "outputs": [
    {
     "data": {
      "text/plain": [
       "0.0047180471899993595"
      ]
     },
     "execution_count": 37,
     "metadata": {},
     "output_type": "execute_result"
    }
   ],
   "source": [
    "var_vr = np.var(X_t)/n + np.var(X_c)/n + theta.T@(np.cov(Y_t.T)/n + np.cov(Y_c.T)/n)@theta - 2*theta.T@(Y_t_dm.T@X_t_dm/(n)/n + Y_c_dm.T@X_c_dm/(n)/n)\n",
    "var_vr"
   ]
  },
  {
   "cell_type": "code",
   "execution_count": 39,
   "metadata": {},
   "outputs": [
    {
     "data": {
      "text/plain": [
       "0.8792984596295966"
      ]
     },
     "execution_count": 39,
     "metadata": {},
     "output_type": "execute_result"
    }
   ],
   "source": [
    "#### variance reduction rate\n",
    "1-var_vr / (np.var(X_t)/n + np.var(X_c)/n)"
   ]
  },
  {
   "cell_type": "code",
   "execution_count": 31,
   "metadata": {},
   "outputs": [
    {
     "data": {
      "text/plain": [
       "-0.8041245285654302"
      ]
     },
     "execution_count": 31,
     "metadata": {},
     "output_type": "execute_result"
    }
   ],
   "source": [
    "Z_score = delta_vr/np.sqrt(var_vr)\n",
    "Z_score"
   ]
  },
  {
   "cell_type": "code",
   "execution_count": null,
   "metadata": {},
   "outputs": [],
   "source": []
  }
 ],
 "metadata": {
  "kernelspec": {
   "display_name": "Python 3",
   "language": "python",
   "name": "python3"
  },
  "language_info": {
   "codemirror_mode": {
    "name": "ipython",
    "version": 3
   },
   "file_extension": ".py",
   "mimetype": "text/x-python",
   "name": "python",
   "nbconvert_exporter": "python",
   "pygments_lexer": "ipython3",
   "version": "3.8.2"
  }
 },
 "nbformat": 4,
 "nbformat_minor": 4
}
