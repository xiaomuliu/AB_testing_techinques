{
 "cells": [
  {
   "cell_type": "code",
   "execution_count": 81,
   "metadata": {},
   "outputs": [],
   "source": [
    "import numpy as np\n",
    "from scipy import stats\n",
    "import pandas as pd\n",
    "import statsmodels.api as sm"
   ]
  },
  {
   "cell_type": "code",
   "execution_count": 100,
   "metadata": {},
   "outputs": [],
   "source": [
    "def get_synthetic_data(n_control, n_treatment, p_0 = 0.2 , p_1 = 0.05, c_1 = 0.05, c_2 = 0.05, c_3 = 0.1, T = 30, r_low = 0.05, r_high = 0.1, r_effect = 0.05, rand_seed = 0):\n",
    "    np.random.seed(seed=rand_seed)\n",
    "    assignment = np.repeat([\"control\", \"treatment\"], (n_control, n_treatment))\n",
    "    n = n_control + n_treatment\n",
    "    U = stats.binom.rvs(1, p_0, size=n)\n",
    "    x_1 = np.array([stats.uniform.rvs(loc=0, scale=0.25+0.75*u, size=1) for u in U]).ravel()  # if U=1 , upper bound is 1 , otherwise 0.25\n",
    "    x_2 = stats.uniform.rvs(loc=0, scale=1, size=n)\n",
    "    p_s = p_1 + c_1 * (x_1 - (3*p_0 + 1) / 8 ) + c_2 * (x_2 - 0.5) # c_1 and c_2 are multiplied to the centered version of x1 and x2 to make p_1 the mean of p_s\n",
    "    S = stats.binom.rvs(1, p_s, size=n)\n",
    "    \n",
    "    df = pd.DataFrame(dict(assignment = assignment, x_1 = x_1, x_2 = x_2, p_s = p_s, U = U, S = S, D = S * np.array(assignment == \"treatment\").astype('int')))\n",
    "    df['r'] = np.where(U==1, r_high, r_low) + c_3*(x_2 - 0.5) + r_effect * df['D'].values\n",
    "    df['Y'] = np.array([stats.binom.rvs(T, r, size=1) for r in df['r'].values]).ravel()\n",
    "    \n",
    "    return df"
   ]
  },
  {
   "cell_type": "code",
   "execution_count": 101,
   "metadata": {},
   "outputs": [
    {
     "data": {
      "text/html": [
       "<div>\n",
       "<style scoped>\n",
       "    .dataframe tbody tr th:only-of-type {\n",
       "        vertical-align: middle;\n",
       "    }\n",
       "\n",
       "    .dataframe tbody tr th {\n",
       "        vertical-align: top;\n",
       "    }\n",
       "\n",
       "    .dataframe thead th {\n",
       "        text-align: right;\n",
       "    }\n",
       "</style>\n",
       "<table border=\"1\" class=\"dataframe\">\n",
       "  <thead>\n",
       "    <tr style=\"text-align: right;\">\n",
       "      <th></th>\n",
       "      <th>x_1</th>\n",
       "      <th>x_2</th>\n",
       "      <th>p_s</th>\n",
       "      <th>U</th>\n",
       "      <th>S</th>\n",
       "      <th>D</th>\n",
       "      <th>r</th>\n",
       "      <th>Y</th>\n",
       "    </tr>\n",
       "  </thead>\n",
       "  <tbody>\n",
       "    <tr>\n",
       "      <th>count</th>\n",
       "      <td>100000.000000</td>\n",
       "      <td>100000.000000</td>\n",
       "      <td>100000.000000</td>\n",
       "      <td>100000.000000</td>\n",
       "      <td>100000.000000</td>\n",
       "      <td>100000.000000</td>\n",
       "      <td>100000.000000</td>\n",
       "      <td>100000.000000</td>\n",
       "    </tr>\n",
       "    <tr>\n",
       "      <th>mean</th>\n",
       "      <td>0.201654</td>\n",
       "      <td>0.497864</td>\n",
       "      <td>0.049976</td>\n",
       "      <td>0.200410</td>\n",
       "      <td>0.050300</td>\n",
       "      <td>0.038000</td>\n",
       "      <td>0.061707</td>\n",
       "      <td>1.850630</td>\n",
       "    </tr>\n",
       "    <tr>\n",
       "      <th>std</th>\n",
       "      <td>0.210122</td>\n",
       "      <td>0.288784</td>\n",
       "      <td>0.017837</td>\n",
       "      <td>0.400309</td>\n",
       "      <td>0.218564</td>\n",
       "      <td>0.191197</td>\n",
       "      <td>0.036966</td>\n",
       "      <td>1.706988</td>\n",
       "    </tr>\n",
       "    <tr>\n",
       "      <th>min</th>\n",
       "      <td>0.000003</td>\n",
       "      <td>0.000003</td>\n",
       "      <td>0.015005</td>\n",
       "      <td>0.000000</td>\n",
       "      <td>0.000000</td>\n",
       "      <td>0.000000</td>\n",
       "      <td>0.000002</td>\n",
       "      <td>0.000000</td>\n",
       "    </tr>\n",
       "    <tr>\n",
       "      <th>25%</th>\n",
       "      <td>0.074316</td>\n",
       "      <td>0.246476</td>\n",
       "      <td>0.035702</td>\n",
       "      <td>0.000000</td>\n",
       "      <td>0.000000</td>\n",
       "      <td>0.000000</td>\n",
       "      <td>0.031789</td>\n",
       "      <td>0.000000</td>\n",
       "    </tr>\n",
       "    <tr>\n",
       "      <th>50%</th>\n",
       "      <td>0.147847</td>\n",
       "      <td>0.497860</td>\n",
       "      <td>0.049450</td>\n",
       "      <td>0.000000</td>\n",
       "      <td>0.000000</td>\n",
       "      <td>0.000000</td>\n",
       "      <td>0.060994</td>\n",
       "      <td>2.000000</td>\n",
       "    </tr>\n",
       "    <tr>\n",
       "      <th>75%</th>\n",
       "      <td>0.220880</td>\n",
       "      <td>0.747647</td>\n",
       "      <td>0.062495</td>\n",
       "      <td>0.000000</td>\n",
       "      <td>0.000000</td>\n",
       "      <td>0.000000</td>\n",
       "      <td>0.086611</td>\n",
       "      <td>3.000000</td>\n",
       "    </tr>\n",
       "    <tr>\n",
       "      <th>max</th>\n",
       "      <td>0.999960</td>\n",
       "      <td>0.999994</td>\n",
       "      <td>0.114855</td>\n",
       "      <td>1.000000</td>\n",
       "      <td>1.000000</td>\n",
       "      <td>1.000000</td>\n",
       "      <td>0.199892</td>\n",
       "      <td>14.000000</td>\n",
       "    </tr>\n",
       "  </tbody>\n",
       "</table>\n",
       "</div>"
      ],
      "text/plain": [
       "                 x_1            x_2            p_s              U  \\\n",
       "count  100000.000000  100000.000000  100000.000000  100000.000000   \n",
       "mean        0.201654       0.497864       0.049976       0.200410   \n",
       "std         0.210122       0.288784       0.017837       0.400309   \n",
       "min         0.000003       0.000003       0.015005       0.000000   \n",
       "25%         0.074316       0.246476       0.035702       0.000000   \n",
       "50%         0.147847       0.497860       0.049450       0.000000   \n",
       "75%         0.220880       0.747647       0.062495       0.000000   \n",
       "max         0.999960       0.999994       0.114855       1.000000   \n",
       "\n",
       "                   S              D              r              Y  \n",
       "count  100000.000000  100000.000000  100000.000000  100000.000000  \n",
       "mean        0.050300       0.038000       0.061707       1.850630  \n",
       "std         0.218564       0.191197       0.036966       1.706988  \n",
       "min         0.000000       0.000000       0.000002       0.000000  \n",
       "25%         0.000000       0.000000       0.031789       0.000000  \n",
       "50%         0.000000       0.000000       0.060994       2.000000  \n",
       "75%         0.000000       0.000000       0.086611       3.000000  \n",
       "max         1.000000       1.000000       0.199892      14.000000  "
      ]
     },
     "execution_count": 101,
     "metadata": {},
     "output_type": "execute_result"
    }
   ],
   "source": [
    "df = get_synthetic_data(n_control=25000, n_treatment=75000, rand_seed = 0)\n",
    "df.describe()"
   ]
  },
  {
   "cell_type": "code",
   "execution_count": 104,
   "metadata": {},
   "outputs": [
    {
     "name": "stdout",
     "output_type": "stream",
     "text": [
      "Est. ITT: 0.0750266666666668\n"
     ]
    }
   ],
   "source": [
    "# ITT\n",
    "print('Est. ITT: {}'.format(df.loc[df['assignment']=='treatment', 'Y'].mean() - df.loc[df['assignment']=='control', 'Y'].mean()))"
   ]
  },
  {
   "cell_type": "code",
   "execution_count": 51,
   "metadata": {},
   "outputs": [
    {
     "name": "stdout",
     "output_type": "stream",
     "text": [
      "{'naive': 0.07553, 'trig_dilu': 0.07726, 'cuped2': 0.07636, 'cuped1': 0.11455}\n",
      "{'naive': 0.01222, 'trig_dilu': 0.00326, 'cuped2': 0.00847, 'cuped1': 0.01025}\n"
     ]
    }
   ],
   "source": [
    "# True S.E.\n",
    "n_resample = 1000\n",
    "delta_y_bar_boot = dict(naive=np.zeros(n_resample), trig_dilu=np.zeros(n_resample), cuped2=np.zeros(n_resample), cuped1=np.zeros(n_resample))\n",
    "np.random.seed(seed=0)\n",
    "n = len(df)\n",
    "for i in range(n_resample):\n",
    "    df_samp = df.iloc[np.random.choice(n, size=n, replace=True), :]\n",
    "    n_c, n_t = np.sum(df_samp['assignment']=='control'), np.sum(df_samp['assignment']=='treatment')\n",
    "    delta_y_bar = df_samp.loc[df_samp['assignment']=='treatment', 'Y'].mean() - df_samp.loc[df_samp['assignment']=='control', 'Y'].mean()\n",
    "    \n",
    "    # naive\n",
    "    delta_y_bar_boot['naive'][i] = delta_y_bar\n",
    "    \n",
    "    # trigger-dilute\n",
    "    TR = np.mean(df_samp['S']==1)\n",
    "    delta_y1_bar = df_samp.loc[(df_samp['assignment']=='treatment') & (df_samp['S']==1), 'Y'].mean() - df_samp.loc[(df_samp['assignment']=='control') & (df_samp['S']==1), 'Y'].mean()\n",
    "    delta_y_bar_boot['trig_dilu'][i] = delta_y1_bar*TR\n",
    "    \n",
    "    # two-sided\n",
    "    Y_t = df_samp.loc[(df_samp['assignment']=='treatment'),'Y'].values\n",
    "    Y_c = df_samp.loc[(df_samp['assignment']=='control'),'Y'].values\n",
    "    S_t = df_samp.loc[(df_samp['assignment']=='treatment'),'S'].values\n",
    "    S_c = df_samp.loc[(df_samp['assignment']=='control'),'S'].values\n",
    "    \n",
    "    #********** calculate tau_0 and theta using bootstrap sample******************\n",
    "    \n",
    "    tau_0 = df_samp.loc[(df_samp['assignment']=='treatment') & (df_samp['S']==0),'Y'].mean() - df_samp.loc[(df_samp['assignment']=='control') & (df_samp['S']==0),'Y'].mean()\n",
    "    # theta = (1/n_t**2*np.cov(Y_t,S_t)[0,1] + 1/n_c**2*np.cov(Y_c,S_c)[0,1]) / (1/n_t**2*np.var(S_t) + 1/n_c**2*np.var(S_c))\n",
    "    theta = np.cov(Y_c,S_c)[0,1] / np.var(S_c)\n",
    "    \n",
    "    delta_y_bar_boot['cuped2'][i] = delta_y_bar - theta*tau_0\n",
    "    \n",
    "    \n",
    "    \n",
    "    # one-sided\n",
    "    log_reg = sm.Logit(df_samp.loc[df_samp['assignment']=='treatment','D'].values, df_samp.loc[df_samp['assignment']=='treatment',['x_1','x_2']].values).fit(disp=0)\n",
    "    w = log_reg.predict(df_samp.loc[df_samp['assignment']=='control',['x_1','x_2']].values)\n",
    "    \n",
    "    tau_0 = df_samp.loc[(df_samp['assignment']=='treatment') & (df_samp['D']==0),'Y'].mean() - np.sum((1-w)*df_samp.loc[df_samp['assignment']=='control','Y'].values)/np.sum((1-w))\n",
    "    #theta = np.cov(Y_t,S_t)[0,1] / np.var(S_t)\n",
    "    \n",
    "    delta_y_bar_boot['cuped1'][i] = delta_y_bar - theta*tau_0      \n",
    "    \n",
    "\n",
    "est_mean = {k: np.round(np.mean(v),5) for k,v in delta_y_bar_boot.items()}\n",
    "print(est_mean)\n",
    "true_se = {k: np.round(np.std(v),5) for k,v in delta_y_bar_boot.items()}\n",
    "print(true_se)\n",
    "\n",
    "    # 简化用\n",
    "    # tau_0 = \n",
    "    # theta = np.cov(Y_t-Y_c,S_t-S_c)[0,1] / np.var(S_t-S_c)\n",
    "    # true_se_cuped = np.sqrt(true_se**2*(1-np.corrcoef(delta_y_bar, tau_0)[0,1]))"
   ]
  },
  {
   "cell_type": "code",
   "execution_count": 50,
   "metadata": {},
   "outputs": [
    {
     "data": {
      "text/plain": [
       "0.49567329848805874"
      ]
     },
     "execution_count": 50,
     "metadata": {},
     "output_type": "execute_result"
    }
   ],
   "source": [
    "(1/n_t**2*np.cov(Y_t,S_t)[0,1] + 1/n_c**2*np.cov(Y_c,S_c)[0,1]) / (1/n_t**2*np.var(S_t) + 1/n_c**2*np.var(S_c))"
   ]
  },
  {
   "cell_type": "code",
   "execution_count": 112,
   "metadata": {},
   "outputs": [
    {
     "name": "stdout",
     "output_type": "stream",
     "text": [
      "Naive method: Est. ITT = 0.07503, Est. SE = 0.01226\n"
     ]
    }
   ],
   "source": [
    "#naive\n",
    "n_c, n_t = 25000, 75000\n",
    "delta_y_bar = df.loc[df['assignment']=='treatment', 'Y'].mean() - df.loc[df['assignment']=='control', 'Y'].mean()\n",
    "var_delta_y_bar = np.var(df.loc[df['assignment']=='treatment','Y'].values)/n_t + np.var(df.loc[df['assignment']=='control','Y'].values)/n_c\n",
    "print('Naive method: Est. ITT = {:.5f}, Est. SE = {:.5f}'.format(delta_y_bar, np.sqrt(var_delta_y_bar)))"
   ]
  },
  {
   "cell_type": "code",
   "execution_count": 118,
   "metadata": {},
   "outputs": [
    {
     "name": "stdout",
     "output_type": "stream",
     "text": [
      "Tigger-dilute: Est. ITT = 0.07697, Est. SE = 0.00321\n"
     ]
    }
   ],
   "source": [
    "#trigger_dilute\n",
    "n_c1, n_t1 = df.loc[(df['assignment']=='control'),'S'].sum(), df.loc[(df['assignment']=='treatment'),'S'].sum()\n",
    "n = n_c+n_t\n",
    "gamma = (n_t1+n_c1)/n  #triggering rate\n",
    "\n",
    "delta_y1_bar = df.loc[(df['assignment']=='treatment') & (df['S']==1), 'Y'].mean() - df.loc[(df['assignment']=='control') & (df['S']==1), 'Y'].mean()\n",
    "tau_d_hat = delta_y1_bar*gamma\n",
    "\n",
    "var_tau_d_hat = ( np.var(df.loc[(df['assignment']=='treatment') & (df['S']==1) ,'Y'].values)/n_t1 + np.var(df.loc[(df['assignment']=='control') & (df['S']==1) ,'Y'].values)/n_c1 )*gamma**2 + gamma*(1-gamma)/n*(df.loc[(df['assignment']=='treatment') & (df['S']==1) ,'Y'].mean() - df.loc[(df['assignment']=='control') & (df['S']==1) ,'Y'].mean())**2\n",
    "print('Tigger-dilute: Est. ITT = {:.5f}, Est. SE = {:.5f}'.format(tau_d_hat, np.sqrt(var_tau_d_hat)))"
   ]
  },
  {
   "cell_type": "code",
   "execution_count": 115,
   "metadata": {},
   "outputs": [
    {
     "name": "stdout",
     "output_type": "stream",
     "text": [
      "CUPED two-sided trigger: Est. ITT=0.07803, Est. SE=0.00341\n"
     ]
    }
   ],
   "source": [
    "#CUPED two-sided trigger\n",
    "n_resample = 1000\n",
    "delta_y_bar_boot = np.zeros(n_resample)\n",
    "delta_y0_bar_hat_boot = np.zeros(n_resample)\n",
    "\n",
    "np.random.seed(seed=0)\n",
    "for i in range(n_resample):    \n",
    "    df_samp = df.iloc[np.random.choice(len(df),size=len(df),replace=True), :]\n",
    "    delta_y0_bar_hat_boot[i] = df_samp.loc[(df_samp['assignment']=='treatment') & (df_samp['S']==0),'Y'].mean() - df_samp.loc[(df_samp['assignment']=='control') & (df_samp['S']==0),'Y'].mean()   \n",
    "    delta_y_bar_boot[i] = df_samp.loc[df_samp['assignment']=='treatment','Y'].mean() - df_samp.loc[df_samp['assignment']=='control','Y'].mean()\n",
    "\n",
    "theta = np.cov(delta_y_bar_boot, delta_y0_bar_hat_boot)[0,1]/np.var(delta_y0_bar_hat_boot)\n",
    "delta_y0_bar_hat =  df.loc[(df['assignment']=='treatment') & (df['S']==0),'Y'].mean() - df.loc[(df['assignment']=='control') & (df['S']==0),'Y'].mean()\n",
    "tau_trig2_hat = delta_y_bar - theta*delta_y0_bar_hat    \n",
    "var_tau_trig2_hat =  np.var(delta_y_bar_boot) - np.cov(delta_y_bar_boot, delta_y0_bar_hat_boot)[0,1]**2/np.var(delta_y0_bar_hat_boot)\n",
    "\n",
    "print('CUPED two-sided triggering: Est. ITT={:.5f}, Est. SE={:.5f}'.format(tau_trig2_hat, np.sqrt(var_tau_trig2_hat)))"
   ]
  },
  {
   "cell_type": "code",
   "execution_count": 116,
   "metadata": {},
   "outputs": [
    {
     "name": "stdout",
     "output_type": "stream",
     "text": [
      "CUPED one-sided triggering: Est. ITT=0.07803, Est. SE=0.00341\n"
     ]
    }
   ],
   "source": [
    "# CUPED one-sided trigger\n",
    "n_resample = 1000\n",
    "delta_y_bar_boot = np.zeros(n_resample)\n",
    "tau_0_hat_boot = np.zeros(n_resample)\n",
    "\n",
    "np.random.seed(seed=0)\n",
    "for i in range(n_resample):\n",
    "    df_samp = df.iloc[np.random.choice(len(df),size=len(df),replace=True), :]\n",
    "    X_t = sm.add_constant(df_samp.loc[df_samp['assignment']=='treatment',['x_1','x_2']].values)\n",
    "    X_c = sm.add_constant(df_samp.loc[df_samp['assignment']=='control',['x_1','x_2']].values)\n",
    "    \n",
    "    log_reg = sm.Logit(df_samp.loc[df_samp['assignment']=='treatment','D'].values, X_t).fit(disp=0)\n",
    "    w = log_reg.predict(X_c)\n",
    "    \n",
    "    tau_0_hat_boot[i] = df_samp.loc[(df_samp['assignment']=='treatment') & (df_samp['D']==0),'Y'].mean() - np.sum((1-w)*df_samp.loc[df_samp['assignment']=='control','Y'].values)/np.sum((1-w))\n",
    "    delta_y_bar_boot[i] = df_samp.loc[df_samp['assignment']=='treatment','Y'].mean() - df_samp.loc[df_samp['assignment']=='control','Y'].mean()\n",
    "    \n",
    "theta = np.cov(delta_y_bar_boot, tau_0_hat_boot)[0,1]/np.var(tau_0_hat_boot)\n",
    "\n",
    "X_t = sm.add_constant(df.loc[df['assignment']=='treatment',['x_1','x_2']].values)\n",
    "X_c = sm.add_constant(df.loc[df['assignment']=='control',['x_1','x_2']].values)\n",
    "log_reg = sm.Logit(df.loc[df['assignment']=='treatment','D'].values, X_t).fit(disp=0)\n",
    "w = log_reg.predict(X_c)\n",
    "tau_0_hat = df.loc[(df['assignment']=='treatment') & (df['D']==0),'Y'].mean() - np.sum((1-w)*df.loc[df['assignment']=='control','Y'].values)/np.sum((1-w))\n",
    "tau_trig1_hat = delta_y_bar - theta*tau_0_hat    \n",
    "var_tau_trig1_hat =  np.var(delta_y_bar_boot) - np.cov(delta_y_bar_boot, tau_0_hat_boot)[0,1]**2/np.var(tau_0_hat_boot)\n",
    "\n",
    "print('CUPED one-sided triggering: Est. ITT={:.5f}, Est. SE={:.5f}'.format(tau_trig1_hat, np.sqrt(var_tau_trig1_hat)))"
   ]
  },
  {
   "cell_type": "code",
   "execution_count": null,
   "metadata": {},
   "outputs": [],
   "source": []
  }
 ],
 "metadata": {
  "kernelspec": {
   "display_name": "Python 3",
   "language": "python",
   "name": "python3"
  },
  "language_info": {
   "codemirror_mode": {
    "name": "ipython",
    "version": 3
   },
   "file_extension": ".py",
   "mimetype": "text/x-python",
   "name": "python",
   "nbconvert_exporter": "python",
   "pygments_lexer": "ipython3",
   "version": "3.8.2"
  }
 },
 "nbformat": 4,
 "nbformat_minor": 4
}
