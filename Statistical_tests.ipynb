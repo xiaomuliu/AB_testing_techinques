{
 "cells": [
  {
   "cell_type": "code",
   "execution_count": null,
   "metadata": {},
   "outputs": [],
   "source": [
    "from aistudio_common.utils.notebook_utils import NotebookUtils\n",
    "import numpy as np\n",
    "from scipy import stats\n",
    "import scipy as sp\n",
    "import statsmodels.api as sm\n",
    "from statsmodels.stats.proportion import proportions_ztest, confint_proportions_2indep\n",
    "from statsmodels.formula.api import ols\n",
    "from statsmodels.stats.multitest import multipletests\n",
    "import pandas as pd"
   ]
  },
  {
   "cell_type": "code",
   "execution_count": null,
   "metadata": {},
   "outputs": [],
   "source": [
    "#### df format\n",
    "### user_id, exp_version_name, metric1, metric2,...\n"
   ]
  },
  {
   "cell_type": "markdown",
   "metadata": {},
   "source": [
    "### 比例类指标"
   ]
  },
  {
   "cell_type": "markdown",
   "metadata": {},
   "source": [
    "#### Chi-squared test (>2组间比较)"
   ]
  },
  {
   "cell_type": "code",
   "execution_count": null,
   "metadata": {},
   "outputs": [],
   "source": [
    "contingency_table = np.array([df.groupby('exp_version_name').agg({metric1:np.sum}).values.ravel(), df.groupby('exp_version_name')['user_id'].agg('count').values-df.groupby('exp_version_name').agg({metric:np.sum}).values.ravel()])\n",
    "chi2_stats,pval,_,_ = stats.chi2_contingency(contingency_table)"
   ]
  },
  {
   "cell_type": "markdown",
   "metadata": {},
   "source": [
    "#### Z-test/Chi-squared test (2组间比较)"
   ]
  },
  {
   "cell_type": "code",
   "execution_count": null,
   "metadata": {},
   "outputs": [],
   "source": [
    "prop_ztest = pd.DataFrame(columns=['指标','比较','统计量','绝对差异','p值','95%置信区间下界','95%置信区间上界'])\n",
    "\n",
    "for pair in group_pairs:\n",
    "    cnt = df.loc[df['exp_version_name'].isin(pair)].groupby('exp_version_name').agg({metric: np.sum}).values.ravel()\n",
    "    nobs = df.loc[df['exp_version_name'].isin(pair)].groupby('exp_version_name')['user_id'].agg('count').values\n",
    "    stat, pval = proportions_ztest(cnt, nobs)\n",
    "    lb, ub = confint_proportions_2indep(count1=cnt[0], nobs1=nobs[0], count2=cnt[1], nobs2=nobs[1], alpha=0.05)\n",
    "    #print(\"Z-stats={0:.4f},p-value={1:.4f}, diff={2:.4f}, 95% CI lb={3:.4f}, ub={4:.4f}\".format(stat,pval,cnt[0]/nobs[0]-cnt[1]/nobs[1],lb,ub))\n",
    "    \n",
    "    prop_ztest = pd.concat([prop_ztest, pd.DataFrame({\"指标\":name,\"比较\":\"{0} vs {1}\".format(pair[0],pair[1]), \"统计量\":stat,\"绝对差异\":cnt[0]/nobs[0]-cnt[1]/nobs[1], \"p值\":pval, \"95%置信区间下界\":lb, \"95%置信区间上界\":ub}, index=[0])],ignore_index=True) "
   ]
  },
  {
   "cell_type": "markdown",
   "metadata": {},
   "source": [
    "### 均值指标"
   ]
  },
  {
   "cell_type": "markdown",
   "metadata": {},
   "source": [
    "#### ANOVA (>2组间比较) "
   ]
  },
  {
   "cell_type": "code",
   "execution_count": null,
   "metadata": {},
   "outputs": [],
   "source": [
    "model = ols(metric+' ~ C(exp_version_name)', data=df).fit()\n",
    "aov_table = sm.stats.anova_lm(model, typ=1)\n",
    "display(aov_table)"
   ]
  },
  {
   "cell_type": "markdown",
   "metadata": {},
   "source": [
    "#### T-test (2组间比较)"
   ]
  },
  {
   "cell_type": "code",
   "execution_count": null,
   "metadata": {},
   "outputs": [],
   "source": [
    "# requires scipy >= 1.6\n",
    "# scipy.stats.ttest_ind_from_stats(mean1, std1, nobs1, mean2, std2, nobs2, equal_var=True, alternative='two-sided')\n",
    "\n",
    "# scipy.stats.ttest_ind(a, b, axis=0, equal_var=True, nan_policy='propagate', permutations=None, random_state=None, alternative='two-sided', trim=0)"
   ]
  },
  {
   "cell_type": "code",
   "execution_count": null,
   "metadata": {},
   "outputs": [],
   "source": [
    "def welch_ttest(x1, x2, alpha=0.05, two_sided=True):\n",
    "    \n",
    "    n1, n2 = x1.size, x2.size\n",
    "    m1, m2 = np.mean(x1), np.mean(x2)    \n",
    "    v1, v2 = np.var(x1, ddof=1), np.var(x2, ddof=1)\n",
    "\n",
    "    pooled_se = np.sqrt(v1 / n1 + v2 / n2)\n",
    "    delta = m1-m2\n",
    "    \n",
    "    tstat = delta / pooled_se\n",
    "    df = (v1 / n1 + v2 / n2)**2 / (v1**2 / (n1**2 * (n1 - 1)) + v2**2 / (n2**2 * (n2 - 1)))\n",
    "    \n",
    "    # t-test\n",
    "    if two_sided:\n",
    "        t = stats.t.ppf(1-alpha/2, df)\n",
    "        pval = 2 * stats.t.cdf(-abs(tstat), df)\n",
    "    else:\n",
    "        t = stats.t.ppf(1-alpha, df)\n",
    "        pval = stats.t.cdf(-abs(tstat), df)\n",
    "        \n",
    "    # upper and lower bounds\n",
    "    lb = delta - t*pooled_se \n",
    "    ub = delta + t*pooled_se\n",
    "  \n",
    "    return pd.DataFrame(np.array([tstat,delta,pval,lb,ub]).reshape(1,-1),\n",
    "                         columns=['统计量','绝对差异','p值','95%置信区间下界','95%置信区间上界'])"
   ]
  },
  {
   "cell_type": "code",
   "execution_count": null,
   "metadata": {},
   "outputs": [],
   "source": [
    "# Welch t test / t confidence interval\n",
    "mean_ttest = pd.DataFrame(columns=['指标','比较','统计量','绝对差异','p值','95%置信区间下界','95%置信区间上界'])\n",
    "\n",
    "for pair in group_pairs:\n",
    "    ttest = welch_ttest(df.loc[df['exp_version_name']==pair[0],metric], df.loc[df['exp_version_name']==pair[1],metric])\n",
    "    ttest['指标'], ttest['比较'] = name, \"{0} vs {1}\".format(pair[0],pair[1])\n",
    "    mean_ttest = pd.concat([mean_ttest, ttest],ignore_index=True) "
   ]
  },
  {
   "cell_type": "markdown",
   "metadata": {},
   "source": [
    "### 非参数方法"
   ]
  },
  {
   "cell_type": "markdown",
   "metadata": {},
   "source": [
    "#### Kruskal-Wallis test (>2组间比较)"
   ]
  },
  {
   "cell_type": "code",
   "execution_count": null,
   "metadata": {},
   "outputs": [],
   "source": [
    "KW_test = pd.DataFrame(columns=['指标','比较','统计量','p值'])\n",
    "\n",
    "stat,pval = stats.kruskal(df.loc[df['exp_version_name']==groups[0],metric],df.loc[df['exp_version_name']==groups[1],metric],df.loc[df['exp_version_name']==groups[2],metric])\n",
    "#print(\"KW test p-value for {0}:{1:3f}\".format(name, pval))\n",
    "KW_test = pd.concat([KW_test, pd.DataFrame({\"指标\":name,\"比较\":\"{0} vs {1}\".format(pair[0],pair[1]), \"统计量\":stat, \"p值\":pval}, index=[0])],ignore_index=True) "
   ]
  },
  {
   "cell_type": "markdown",
   "metadata": {},
   "source": [
    "#### Mann-Whitney U test (2组间比较)"
   ]
  },
  {
   "cell_type": "code",
   "execution_count": null,
   "metadata": {},
   "outputs": [],
   "source": [
    "MWU_test = pd.DataFrame(columns=['指标','比较','统计量','p值'])\n",
    "\n",
    "for pair in group_pairs:        \n",
    "    stat,pval = stats.mannwhitneyu(df.loc[df['exp_version_name']==pair[0],metric], df.loc[df['exp_version_name']==pair[1],metric])   \n",
    "    MWU_test = pd.concat([MWU_test, pd.DataFrame({\"指标\":name,\"比较\":\"{0} vs {1}\".format(pair[0],pair[1]), \"统计量\":stat, \"p值\":pval}, index=[0])],ignore_index=True) "
   ]
  },
  {
   "cell_type": "markdown",
   "metadata": {},
   "source": [
    "#### Bootstrap confidence interval"
   ]
  },
  {
   "cell_type": "code",
   "execution_count": null,
   "metadata": {},
   "outputs": [],
   "source": [
    "# requires scipy >= 1.7\n",
    "# stats.bootstrap"
   ]
  },
  {
   "cell_type": "code",
   "execution_count": null,
   "metadata": {},
   "outputs": [],
   "source": [
    "n_resample = 1000\n",
    "boot_vals = pd.DataFrame(dict(values = np.zeros(n_resample*len(groups)), exp_version_name=np.repeat(groups,n_resample)))\n",
    "resample_metric_vals = np.zeros(n_resample)\n",
    "boot_ci = pd.DataFrame(columns=['指标','比较','95%置信区间下界','95%置信区间上界'])\n",
    "\n",
    "for g in groups:\n",
    "    sample = df.loc[df['exp_version_name']==g, metric].values\n",
    "    for i in range(n_resample):\n",
    "        x = np.random.choice(sample, size=len(sample), replace=True)\n",
    "        resample_metric_vals[i] = np.mean(x)    # take mean value as an example\n",
    "    boot_samples.loc[boot_pcts['exp_version_name']==g, 'values']= resample_metric_vals\n",
    "\n",
    "    for pair in group_pairs:        \n",
    "        lb, ub = np.percentile(boot_vals.loc[boot_vals['exp_version_name']==pair[0], 'values'].values - boot_vals.loc[boot_vals['exp_version_name']==pair[1], 'values'].values, [2.5,97.5])\n",
    "        boot_ci = pd.concat([boot_ci, pd.DataFrame({\"指标\":name,\"比较\":\"{0} vs {1}\".format(pair[0],pair[1]), \"95%置信区间下界\":lb, \"95%置信区间上界\":ub}, index=[0])],ignore_index=True)"
   ]
  },
  {
   "cell_type": "markdown",
   "metadata": {},
   "source": [
    "#### Permuation test"
   ]
  },
  {
   "cell_type": "code",
   "execution_count": null,
   "metadata": {},
   "outputs": [],
   "source": [
    "# requires scipy >= 1.8\n",
    "# stats.permutation_test"
   ]
  },
  {
   "cell_type": "code",
   "execution_count": null,
   "metadata": {},
   "outputs": [],
   "source": [
    "# **** take mean value as an example **********\n",
    "# def mean_diff(x, y, axis=0):\n",
    "#     return np.mean(x, axis=axis) - np.mean(y, axis=axis)"
   ]
  },
  {
   "cell_type": "code",
   "execution_count": null,
   "metadata": {},
   "outputs": [],
   "source": [
    "# n_resample = 1000\n",
    "# permutation_test = pd.DataFrame(columns=['指标','比较','统计量','p值'])\n",
    "\n",
    "# for pair in group_pairs:        \n",
    "#     x, y = df.loc[df['exp_version_name']==pair[0], metric].values, df.loc[df['exp_version_name']==pair[1], metric].values\n",
    "#     perm_test = stats.permutation_test((x,y), statistic=mean_diff, permutation_type='independent', vectorized=False, n_resamples=n_resample, alternative='two-sided', axis=0, random_state=1234)\n",
    "#     permutation_test = pd.concat([permutation_test, pd.DataFrame({\"指标\":name,\"比较\":\"{0} vs {1}\".format(pair[0],pair[1]), \"统计量\":perm_test.statistic, \"p值\":perm_test.pvalue}, index=[0])],ignore_index=True) "
   ]
  },
  {
   "cell_type": "markdown",
   "metadata": {},
   "source": [
    "### Delta Method"
   ]
  },
  {
   "cell_type": "markdown",
   "metadata": {},
   "source": [
    "### Ratio 比率类指标"
   ]
  },
  {
   "cell_type": "code",
   "execution_count": null,
   "metadata": {},
   "outputs": [],
   "source": [
    "def delta_method_prop_ratio(p1, p2, n1, n2, alpha = 0.05, two_sided = True):\n",
    "    rel_diff = (p2-p1)/p1\n",
    "    var1 = p1*(1-p1)/n1\n",
    "    var2 = p2*(1-p2)/n2\n",
    "    se = np.sqrt((p2/p1)**2*(var1/(p1**2) + var2/(p2**2)))\n",
    "    \n",
    "    zstat = rel_diff / se\n",
    "    if two_sided: \n",
    "        z = stats.norm.ppf(1-alpha/2)\n",
    "        pval = 2 * stats.norm.cdf(-abs(zstat))\n",
    "    else:\n",
    "        z = stats.norm.ppf(1-alpha)\n",
    "        pval = stats.norm.cdf(-abs(zstat))\n",
    "      \n",
    "    lb = rel_diff - z*se\n",
    "    ub = rel_diff + z*se\n",
    "\n",
    "    return pd.DataFrame(np.array([zstat,rel_diff,pval,lb,ub]).reshape(1,-1),\n",
    "                         columns=['统计量','相对差异','p值','95%置信区间下界','95%置信区间上界'])"
   ]
  },
  {
   "cell_type": "code",
   "execution_count": null,
   "metadata": {},
   "outputs": [],
   "source": [
    "def delta_method_mean_ratio(x1, x2, alpha = 0.05, two_sided = True):\n",
    "    m1, m2 = np.mean(x1),np.mean(x2)\n",
    "    n1, n2 = len(x1), len(x2)\n",
    "    var1, var2 = np.var(x1), np.var(x2)\n",
    "    \n",
    "    rel_diff = (x2-x1)/x1  # point esitmate\n",
    "    \n",
    "    if len(x1)==len(x2):\n",
    "        cov12 = np.cov(x1, x2, bias = True)[0][1]\n",
    "        var = (var2/n2)/(m1**2) - 2*m2*cov12/(m1**3) + (m2**2) * (var1/n1)/(m1**4) # variance estimate\n",
    "    else:\n",
    "        var = (var2/n2)/(m1**2) + (m2**2) * (var1/n1)/(m1**4) # assuming x1 and x2 are independent\n",
    "\n",
    "    se = np.sqrt(var)\n",
    "    \n",
    "    zstat = rel_diff / se\n",
    "    if two_sided: \n",
    "        z = stats.norm.ppf(1-alpha/2)\n",
    "        pval = 2 * stats.norm.cdf(-abs(zstat))\n",
    "    else:\n",
    "        z = stats.norm.ppf(1-alpha)\n",
    "        pval = stats.norm.cdf(-abs(zstat))\n",
    "      \n",
    "    lb = rel_diff - z*se\n",
    "    ub = rel_diff + z*se\n",
    "    \n",
    "    return pd.DataFrame(np.array([zstat,rel_diff,pval,lb,ub]).reshape(1,-1),\n",
    "                         columns=['统计量','相对差异','p值','95%置信区间下界','95%置信区间上界'])"
   ]
  },
  {
   "cell_type": "markdown",
   "metadata": {},
   "source": [
    "### 多重检验修正"
   ]
  },
  {
   "cell_type": "code",
   "execution_count": null,
   "metadata": {},
   "outputs": [],
   "source": [
    "# bonferroni corrrection\n",
    "_,pvals_corrected, _, _ = multipletests(pvals, alpha=0.05, method='bonferroni')\n",
    "# Benjamini-Hochberg corrrection\n",
    "_,pvals_corrected, _, _ = multipletests(pvals, alpha=0.05, method='fdr_bh')"
   ]
  }
 ],
 "metadata": {
  "kernelspec": {
   "display_name": "Python 3",
   "language": "python",
   "name": "python3"
  },
  "language_info": {
   "codemirror_mode": {
    "name": "ipython",
    "version": 3
   },
   "file_extension": ".py",
   "mimetype": "text/x-python",
   "name": "python",
   "nbconvert_exporter": "python",
   "pygments_lexer": "ipython3",
   "version": "3.8.2"
  }
 },
 "nbformat": 4,
 "nbformat_minor": 4
}
